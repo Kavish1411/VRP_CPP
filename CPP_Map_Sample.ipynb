{
 "cells": [
  {
   "cell_type": "code",
   "execution_count": 80,
   "id": "be95e47d-fc5d-4978-b0c0-f4101e37fd1f",
   "metadata": {},
   "outputs": [],
   "source": [
    "import numpy as np\n",
    "import pandas as pd\n",
    "import matplotlib.pyplot as plt\n",
    "from itertools import permutations\n",
    "from scipy.spatial import distance_matrix\n",
    "from PIL import Image"
   ]
  },
  {
   "cell_type": "code",
   "execution_count": 94,
   "id": "ae4baf1b-c3b6-4cd7-8754-14b0261873da",
   "metadata": {},
   "outputs": [],
   "source": [
    "def tsp_brute_force(dist_matrix):\n",
    "    n = len(dist_matrix)\n",
    "    all_routes = permutations(range(n))\n",
    "    shortest_route = None\n",
    "    min_distance = float(\"inf\")\n",
    "\n",
    "    for route in all_routes:\n",
    "        current_distance = sum(\n",
    "            dist_matrix[route[i], route[i + 1]] for i in range(n - 1)\n",
    "        ) + dist_matrix[route[-1], route[0]]\n",
    "\n",
    "        if current_distance < min_distance:\n",
    "            min_distance = current_distance\n",
    "            shortest_route = route\n",
    "\n",
    "    return shortest_route, min_distance"
   ]
  },
  {
   "cell_type": "code",
   "execution_count": 114,
   "id": "5466d5f0-6944-4135-951a-351f9f0b18f2",
   "metadata": {},
   "outputs": [],
   "source": [
    "def plot_route_on_map(Cal_Poly_pomona, points, route, title = \"Optimal Route on Campus\"):\n",
    "    img = Image.open(Cal_Poly_pomona)\n",
    "    plt.figure(figsize = (8, 8))\n",
    "    plt.imshow(img, extent = [0, 1, 0, 1], aspect = \"auto\")\n",
    "\n",
    "    plt.scatter(points[:, 0], points[:, 1], c = \"red\", zorder = 5)\n",
    "    for i, point in enumerate(points):\n",
    "        plt.text(point[0], point[1], f\"{i}\", fontsize = 12)\n",
    "\n",
    "    for i in range(len(route)):\n",
    "        start = route[i]\n",
    "        end = route[(i + 1) % len(route)]\n",
    "        plt.plot([points[start, 0], points[end, 0]], [points[start, 1], points[end, 1]], \"b-\")\n",
    "\n",
    "    plt.title(title)\n",
    "    plt.show()"
   ]
  },
  {
   "cell_type": "code",
   "execution_count": 116,
   "id": "30133039-3d64-4288-826c-893aa63c65b1",
   "metadata": {},
   "outputs": [],
   "source": [
    "campus_points = np.array([[34.05837537513091, -117.82151531021476], \n",
    "                          [34.0603068980357, -117.82115454884296], \n",
    "                          [34.0599766733906, -117.82425561815788]]\n",
    "                        )"
   ]
  },
  {
   "cell_type": "code",
   "execution_count": 118,
   "id": "530b66f7-4ebb-4491-84d6-79c14ac16142",
   "metadata": {},
   "outputs": [],
   "source": [
    "dist_matrix = distance_matrix(campus_points, campus_points)"
   ]
  },
  {
   "cell_type": "code",
   "execution_count": 120,
   "id": "ea92c09d-d688-4a2e-a1da-e7fcb855d548",
   "metadata": {},
   "outputs": [],
   "source": [
    "optimal_route, optimal_distance = tsp_brute_force(dist_matrix)"
   ]
  },
  {
   "cell_type": "code",
   "execution_count": 122,
   "id": "34326b1d-c12d-491f-ac2f-fe9e0a3777c1",
   "metadata": {},
   "outputs": [
    {
     "name": "stdout",
     "output_type": "stream",
     "text": [
      "Optimal Route: (0, 1, 2)\n",
      "Optimal Distance: 0.008257395823565293\n"
     ]
    }
   ],
   "source": [
    "print(f\"Optimal Route: {optimal_route}\")\n",
    "print(f\"Optimal Distance: {optimal_distance}\")"
   ]
  },
  {
   "cell_type": "code",
   "execution_count": 124,
   "id": "1aa78f1f-101e-4309-8f8e-9c0cb64e0691",
   "metadata": {},
   "outputs": [
    {
     "data": {
      "image/png": "[encoded data removed]",
      "text/plain": [
       "<Figure size 800x800 with 1 Axes>"
      ]
     },
     "metadata": {},
     "output_type": "display_data"
    }
   ],
   "source": [
    "plot_route_on_map(\"Cal_Poly_pomona.png\", campus_points, optimal_route)"
   ]
  },
  {
   "cell_type": "code",
   "execution_count": null,
   "id": "e634707c-00e5-43bd-8c37-6a6cf52ff3ea",
   "metadata": {},
   "outputs": [],
   "source": []
  }
 ],
 "metadata": {
  "kernelspec": {
   "display_name": "Python 3 (ipykernel)",
   "language": "python",
   "name": "python3"
  },
  "language_info": {
   "codemirror_mode": {
    "name": "ipython",
    "version": 3
   },
   "file_extension": ".py",
   "mimetype": "text/x-python",
   "name": "python",
   "nbconvert_exporter": "python",
   "pygments_lexer": "ipython3",
   "version": "3.11.5"
  }
 },
 "nbformat": 4,
 "nbformat_minor": 5
}

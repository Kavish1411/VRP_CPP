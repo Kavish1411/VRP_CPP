{
 "cells": [
  {
   "cell_type": "code",
   "execution_count": null,
   "id": "643ea6ef-c183-41b4-8941-059fbe04551c",
   "metadata": {},
   "outputs": [],
   "source": [
    "class car:\n",
    "    def __init__(self, make, model, year):\n",
    "        self.make = make\n",
    "        self.model = model\n",
    "        self.__year = year\n",
    "\n",
    "    def get_year(self):\n",
    "        return self.__year\n",
    "\n",
    "    def set_year(self, year):\n",
    "        if year > 2000:\n",
    "            self.__year = year\n",
    "\n",
    "my_car = car(\"Toyota\", \"Corolla\", 2018)\n",
    "\n",
    "print(my_car.make)\n",
    "print(my_car.get_year())\n",
    "my_car.set_year(2020)\n",
    "print(my_car.get_year())"
   ]
  },
  {
   "cell_type": "code",
   "execution_count": 4,
   "id": "6b9b7ce5-e12c-444c-bf12-c4faa191ac16",
   "metadata": {},
   "outputs": [
    {
     "name": "stdout",
     "output_type": "stream",
     "text": [
      "Toyota\n",
      "2018\n",
      "2020\n"
     ]
    }
   ],
   "source": [
    "class car:\n",
    "    def __init__(self, make, model, year):\n",
    "        self.make = make\n",
    "        self.model = model\n",
    "        self.__year = year\n",
    "\n",
    "    def get_year(self):\n",
    "        return self.__year\n",
    "\n",
    "    def set_year(self, year):\n",
    "        if year > 2000:\n",
    "            self.__year = year\n",
    "\n",
    "my_car = car(\"Toyota\", \"Corolla\", 2018)\n",
    "\n",
    "print(my_car.make)\n",
    "print(my_car.get_year())\n",
    "my_car.set_year(2020)\n",
    "print(my_car.get_year())"
   ]
  },
  {
   "cell_type": "markdown",
   "id": "69b87b14-7021-49af-bb70-51268fa04990",
   "metadata": {},
   "source": [
    "## TODO: Create a basic Class"
   ]
  },
  {
   "cell_type": "code",
   "execution_count": 6,
   "id": "51818d32-8840-4a14-b896-1ad68c0687ee",
   "metadata": {},
   "outputs": [],
   "source": [
    "class Book:\n",
    "    def __init__(self, title):\n",
    "        self.title = title"
   ]
  },
  {
   "cell_type": "markdown",
   "id": "0136d7e6-69a3-4bbd-8fc4-2d161f76d392",
   "metadata": {},
   "source": [
    "## TODO: Create instances of the class"
   ]
  },
  {
   "cell_type": "code",
   "execution_count": 8,
   "id": "120faef0-987f-45b4-868c-3820ce6adad8",
   "metadata": {},
   "outputs": [],
   "source": [
    "book1 = Book(\"Brave New World\")\n",
    "book2 = Book(\"Ware and Peace\")"
   ]
  },
  {
   "cell_type": "markdown",
   "id": "c5ba3faf-8dec-47f6-9f28-96182b78c2f3",
   "metadata": {},
   "source": [
    "## TODO: Print the class and property"
   ]
  },
  {
   "cell_type": "code",
   "execution_count": 11,
   "id": "76133bb2-0cda-4079-b08b-bb32634aed85",
   "metadata": {},
   "outputs": [
    {
     "name": "stdout",
     "output_type": "stream",
     "text": [
      "<__main__.Book object at 0x107c12690>\n",
      "Brave New World\n"
     ]
    }
   ],
   "source": [
    "print(book1)\n",
    "print(book1.title)"
   ]
  },
  {
   "cell_type": "code",
   "execution_count": 13,
   "id": "33b2298b-9f12-45ec-82c9-0c0a80785d94",
   "metadata": {},
   "outputs": [],
   "source": [
    "class Book:\n",
    "    def __init__(Kavish, Shah):\n",
    "        Kavish.Shah = Shah"
   ]
  },
  {
   "cell_type": "code",
   "execution_count": 15,
   "id": "5a3a4c9e-a7b6-4962-b423-b589a5efdd91",
   "metadata": {},
   "outputs": [],
   "source": [
    "A = Book(\"HI\")\n",
    "B = Book(\"ABC\")"
   ]
  },
  {
   "cell_type": "code",
   "execution_count": 21,
   "id": "4b3e8fa8-e298-424e-9d6d-bf6a5417db43",
   "metadata": {},
   "outputs": [
    {
     "name": "stdout",
     "output_type": "stream",
     "text": [
      "<__main__.Book object at 0x107c13010>\n",
      "HI\n"
     ]
    }
   ],
   "source": [
    "print(A)\n",
    "print(A.Shah)"
   ]
  },
  {
   "cell_type": "code",
   "execution_count": 23,
   "id": "2de8e8f8-eb5e-4425-8810-54c287eaf972",
   "metadata": {},
   "outputs": [],
   "source": [
    "class Car:\n",
    "    def __init__(Company, Model):\n",
    "        Company.Model = Model"
   ]
  },
  {
   "cell_type": "code",
   "execution_count": 25,
   "id": "46a918c6-0975-4aaf-8c6a-21ceb29fba6a",
   "metadata": {},
   "outputs": [],
   "source": [
    "Car1 = Car(\"Tesla\")\n",
    "Car2 = Car(\"Rivian\")"
   ]
  },
  {
   "cell_type": "code",
   "execution_count": 29,
   "id": "05c02b68-f4c8-4762-8afd-7f6646a0b275",
   "metadata": {},
   "outputs": [
    {
     "name": "stdout",
     "output_type": "stream",
     "text": [
      "<__main__.Car object at 0x107c320d0>\n",
      "Rivian\n"
     ]
    }
   ],
   "source": [
    "print(Car1)\n",
    "print(Car2.Model)"
   ]
  },
  {
   "cell_type": "code",
   "execution_count": 45,
   "id": "1b436b46-c278-4209-a794-0cea042fb632",
   "metadata": {},
   "outputs": [],
   "source": [
    "class Book:\n",
    "    def __init__(self, title, author, pages, price):\n",
    "        self.title = title \n",
    "        self.author = author   #Instance attributes\n",
    "        self.pages = pages\n",
    "        self.price = price"
   ]
  },
  {
   "cell_type": "markdown",
   "id": "47fbbc32-9d16-439d-adee-12d85c19608d",
   "metadata": {},
   "source": [
    "## Create instance methods"
   ]
  },
  {
   "cell_type": "code",
   "execution_count": 48,
   "id": "d9a3badd-0310-44c3-a543-2865f2e7e5c1",
   "metadata": {},
   "outputs": [],
   "source": [
    "    def getprice(self):\n",
    "        return self.price"
   ]
  },
  {
   "cell_type": "code",
   "execution_count": 50,
   "id": "bcb191f4-3358-4009-a252-48168fdb964d",
   "metadata": {},
   "outputs": [],
   "source": [
    "b1 = Book(\"War and Peace\", \"Leo Tolstoy\", 1225, 39.95)\n",
    "b2 = Book(\"The Catcher in the Rye\", \"JD Salinger\", 234, 29.95)"
   ]
  },
  {
   "cell_type": "markdown",
   "id": "61b3867a-9073-4a4a-94a7-f8da1331985f",
   "metadata": {},
   "source": [
    "## print the price of book1"
   ]
  },
  {
   "cell_type": "code",
   "execution_count": 55,
   "id": "078d30fb-043e-4c51-9aa1-4ba4487cb4f9",
   "metadata": {},
   "outputs": [
    {
     "ename": "AttributeError",
     "evalue": "'Book' object has no attribute 'getprice'",
     "output_type": "error",
     "traceback": [
      "\u001b[0;31m---------------------------------------------------------------------------\u001b[0m",
      "\u001b[0;31mAttributeError\u001b[0m                            Traceback (most recent call last)",
      "Cell \u001b[0;32mIn[55], line 1\u001b[0m\n\u001b[0;32m----> 1\u001b[0m \u001b[38;5;28mprint\u001b[39m(b2\u001b[38;5;241m.\u001b[39mgetprice())\n",
      "\u001b[0;31mAttributeError\u001b[0m: 'Book' object has no attribute 'getprice'"
     ]
    }
   ],
   "source": [
    "print(b2.getprice())"
   ]
  },
  {
   "cell_type": "code",
   "execution_count": 61,
   "id": "f065b088-86ff-4d0e-bf75-52d14a769c8f",
   "metadata": {},
   "outputs": [
    {
     "name": "stdout",
     "output_type": "stream",
     "text": [
      "39.95\n",
      "29.962500000000002\n"
     ]
    }
   ],
   "source": [
    "class Book:\n",
    "    def __init__(self, title, author, pages, price):\n",
    "        self.title = title \n",
    "        self.author = author   #Instance attributes\n",
    "        self.pages = pages\n",
    "        self.price = price\n",
    "\n",
    "    def getprice(self):\n",
    "        if hasattr(self, \"_discount\"):\n",
    "            return self.price - (self.price * self._discount)\n",
    "        else:\n",
    "            return self.price\n",
    "\n",
    "    def setdiscount(self, amount):\n",
    "        self._discount = amount\n",
    "\n",
    "b1 = Book(\"War and Peace\", \"Leo Tolstoy\", 1225, 39.95)\n",
    "b2 = Book(\"The Catcher in the Rye\", \"JD Salinger\", 234, 29.95)\n",
    "\n",
    "print(b1.getprice())\n",
    "b1.setdiscount(0.25)\n",
    "print(b1.getprice())"
   ]
  },
  {
   "cell_type": "code",
   "execution_count": 65,
   "id": "7385d72b-da7a-47c6-82e4-9cc63c8070c7",
   "metadata": {},
   "outputs": [],
   "source": [
    "class Book:\n",
    "    def __init__(self, title, author, pages, price):\n",
    "        self.title = title\n",
    "        self.author = author\n",
    "        self.pages = pages\n",
    "        self.price = price\n",
    "\n",
    "    def getprice(self):\n",
    "        if hasattr(self, \"_discount\"):\n",
    "            return self.price - (self.price * self._discount)\n",
    "        else:\n",
    "            return self.price\n",
    "\n",
    "    def setdiscount(self, amount):\n",
    "        self._discount = amount"
   ]
  },
  {
   "cell_type": "code",
   "execution_count": 67,
   "id": "ed0fd662-3cf0-4390-9a6b-9f66231f58a9",
   "metadata": {},
   "outputs": [
    {
     "name": "stdout",
     "output_type": "stream",
     "text": [
      "29.962500000000002\n"
     ]
    }
   ],
   "source": [
    "print(b1.getprice())"
   ]
  },
  {
   "cell_type": "code",
   "execution_count": 69,
   "id": "652d7c78-803b-42f2-8415-c57196d43eef",
   "metadata": {},
   "outputs": [
    {
     "name": "stdout",
     "output_type": "stream",
     "text": [
      "19.975\n"
     ]
    }
   ],
   "source": [
    "b1.setdiscount(0.50)\n",
    "print(b1.getprice())"
   ]
  },
  {
   "cell_type": "code",
   "execution_count": 71,
   "id": "1e037284-2f48-456e-a6f1-76f220a42cf3",
   "metadata": {},
   "outputs": [],
   "source": [
    "class Book:\n",
    "    def __init__(self, title):\n",
    "        self.title = title"
   ]
  },
  {
   "cell_type": "code",
   "execution_count": 73,
   "id": "8973b218-e9e3-49ba-9a16-ef1470291fdc",
   "metadata": {},
   "outputs": [],
   "source": [
    "class Newspaper:\n",
    "    def __init__(self, name):\n",
    "        self.name = name"
   ]
  },
  {
   "cell_type": "code",
   "execution_count": 77,
   "id": "47952c67-f2c5-4b36-9fce-915a84560395",
   "metadata": {},
   "outputs": [],
   "source": [
    "# Create some instances of the classes\n",
    "b1 = Book(\"The Catcher In The Rye\")\n",
    "b2 = Book(\"The Grapes of Wrath\")\n",
    "n1 = Newspaper(\"The Washington Post\")\n",
    "n2 = Newspaper(\"The New York Times\")"
   ]
  },
  {
   "cell_type": "code",
   "execution_count": 79,
   "id": "954234d7-e1b4-4d85-82b0-bf544e953281",
   "metadata": {},
   "outputs": [
    {
     "name": "stdout",
     "output_type": "stream",
     "text": [
      "<class '__main__.Book'>\n",
      "<class '__main__.Newspaper'>\n"
     ]
    }
   ],
   "source": [
    "# use type() to inspect the object type\n",
    "print(type(b1))\n",
    "print(type(n1))"
   ]
  },
  {
   "cell_type": "code",
   "execution_count": 83,
   "id": "4dce0cf2-63e6-4e2f-8233-b49fa779bbd5",
   "metadata": {},
   "outputs": [
    {
     "name": "stdout",
     "output_type": "stream",
     "text": [
      "True\n",
      "False\n"
     ]
    }
   ],
   "source": [
    "# Compare two types together\n",
    "print(type(b1) == type(b2))\n",
    "print(type(b1) == type(n2))"
   ]
  },
  {
   "cell_type": "code",
   "execution_count": 85,
   "id": "5481bb99-aaef-415e-9361-ce7f649706e5",
   "metadata": {},
   "outputs": [
    {
     "name": "stdout",
     "output_type": "stream",
     "text": [
      "True\n",
      "True\n",
      "False\n"
     ]
    }
   ],
   "source": [
    "# use isinstance to compare a specific instance to a known type\n",
    "print(isinstance(b1, Book))\n",
    "print(isinstance(n1, Newspaper))\n",
    "print(isinstance(n2, Book))"
   ]
  },
  {
   "cell_type": "code",
   "execution_count": 87,
   "id": "164636ca-0a51-41be-9b68-ba3f6af9bed8",
   "metadata": {},
   "outputs": [
    {
     "name": "stdout",
     "output_type": "stream",
     "text": [
      "True\n"
     ]
    }
   ],
   "source": [
    "print(isinstance(n2, object))"
   ]
  },
  {
   "cell_type": "code",
   "execution_count": 93,
   "id": "4c2d261a-66ed-4e51-b24c-0d095405426b",
   "metadata": {},
   "outputs": [
    {
     "ename": "AttributeError",
     "evalue": "type object 'Book' has no attribute 'get_book_types'",
     "output_type": "error",
     "traceback": [
      "\u001b[0;31m---------------------------------------------------------------------------\u001b[0m",
      "\u001b[0;31mAttributeError\u001b[0m                            Traceback (most recent call last)",
      "Cell \u001b[0;32mIn[93], line 15\u001b[0m\n\u001b[1;32m     12\u001b[0m         \u001b[38;5;28;01melse\u001b[39;00m:\n\u001b[1;32m     13\u001b[0m             \u001b[38;5;28mself\u001b[39m\u001b[38;5;241m.\u001b[39mbooktype\n\u001b[0;32m---> 15\u001b[0m \u001b[38;5;28mprint\u001b[39m(\u001b[38;5;124m\"\u001b[39m\u001b[38;5;124mBook types: \u001b[39m\u001b[38;5;124m\"\u001b[39m, Book\u001b[38;5;241m.\u001b[39mget_book_types())\n\u001b[1;32m     17\u001b[0m b1 \u001b[38;5;241m=\u001b[39m Book(\u001b[38;5;124m\"\u001b[39m\u001b[38;5;124mTitle1\u001b[39m\u001b[38;5;124m\"\u001b[39m, \u001b[38;5;124m\"\u001b[39m\u001b[38;5;124mHARDCOVER\u001b[39m\u001b[38;5;124m\"\u001b[39m)\n\u001b[1;32m     18\u001b[0m b2 \u001b[38;5;241m=\u001b[39m Book(\u001b[38;5;124m\"\u001b[39m\u001b[38;5;124mTitle1\u001b[39m\u001b[38;5;124m\"\u001b[39m, \u001b[38;5;124m\"\u001b[39m\u001b[38;5;124mCOMIC\u001b[39m\u001b[38;5;124m\"\u001b[39m)\n",
      "\u001b[0;31mAttributeError\u001b[0m: type object 'Book' has no attribute 'get_book_types'"
     ]
    }
   ],
   "source": [
    "# Properties defined at the class level are shared by all instances\n",
    "class Book:\n",
    "    BOOK_TYPES = (\"HARDCOVER\", \"PAPERBACK\", \"EBOOK\")\n",
    "\n",
    "    def set_title(self, newtitle):\n",
    "        self.title = newtitle\n",
    "\n",
    "    def __init__(self, title, booktype):\n",
    "        self.title = title\n",
    "        if (not booktype in Book.BOOK_TYPES):\n",
    "            raise ValueError(f\"{booktype} is not a valid book type\")\n",
    "        else:\n",
    "            self.booktype\n",
    "\n",
    "print(\"Book types: \", Book.get_book_types())\n",
    "\n",
    "b1 = Book(\"Title1\", \"HARDCOVER\")\n",
    "b2 = Book(\"Title1\", \"COMIC\")\n",
    "\n"
   ]
  },
  {
   "cell_type": "code",
   "execution_count": 97,
   "id": "8f0c9a8c-f21d-4e8b-9ff7-52e3680c59e2",
   "metadata": {},
   "outputs": [
    {
     "name": "stdout",
     "output_type": "stream",
     "text": [
      "Book types:  ('HARDCOVER', 'PAPERBACK', 'EBOOK')\n"
     ]
    }
   ],
   "source": [
    "# Properties defined at the class level are shared by all instances\n",
    "class Book:\n",
    "    BOOK_TYPES = (\"HARDCOVER\", \"PAPERBACK\", \"EBOOK\")\n",
    "    \n",
    "    # Class method to get book types\n",
    "    @classmethod\n",
    "    def get_book_types(cls):\n",
    "        return cls.BOOK_TYPES\n",
    "\n",
    "    # Method to set title\n",
    "    def set_title(self, newtitle):\n",
    "        self.title = newtitle\n",
    "\n",
    "    # Initialize book with title and type\n",
    "    def __init__(self, title, booktype):\n",
    "        self.title = title\n",
    "        if not booktype in Book.BOOK_TYPES:\n",
    "            raise ValueError(f\"{booktype} is not a valid book type\")\n",
    "        else:\n",
    "            self.booktype = booktype\n",
    "\n",
    "print(\"Book types: \", Book.get_book_types())\n",
    "\n",
    "b1 = Book(\"Title1\", \"HARDCOVER\")\n"
   ]
  },
  {
   "cell_type": "code",
   "execution_count": 107,
   "id": "0c0a7bf9-752a-46fc-9572-cc7c220fd82f",
   "metadata": {},
   "outputs": [
    {
     "name": "stdout",
     "output_type": "stream",
     "text": [
      "Book types:  ('HARDCOVER', 'PAPERBACK', 'EBOOK')\n"
     ]
    }
   ],
   "source": [
    "class Book:\n",
    "    BOOK_TYPES = (\"HARDCOVER\", \"PAPERBACK\", \"EBOOK\")\n",
    "\n",
    "    @classmethod\n",
    "    def get_book_types(cls):\n",
    "        return cls.BOOK_TYPES\n",
    "\n",
    "    def set_title(self, newtitle):\n",
    "        self.title = newtitle\n",
    "\n",
    "    def __init__(self, title, booktype):\n",
    "        self.title = title\n",
    "        if not booktype in Book.BOOK_TYPES:\n",
    "            raise ValueError(f\"{booktype} is not a valid book type\")\n",
    "        else:\n",
    "            self.booktype = booktype\n",
    "\n",
    "print(\"Book types: \", Book.get_book_types())\n",
    "\n",
    "b1 = Book(\"Title1\", \"HARDCOVER\")"
   ]
  },
  {
   "cell_type": "code",
   "execution_count": null,
   "id": "426a48bb-3d67-4e0e-851a-22336392a9a0",
   "metadata": {},
   "outputs": [],
   "source": []
  }
 ],
 "metadata": {
  "kernelspec": {
   "display_name": "Python 3 (ipykernel)",
   "language": "python",
   "name": "python3"
  },
  "language_info": {
   "codemirror_mode": {
    "name": "ipython",
    "version": 3
   },
   "file_extension": ".py",
   "mimetype": "text/x-python",
   "name": "python",
   "nbconvert_exporter": "python",
   "pygments_lexer": "ipython3",
   "version": "3.11.5"
  }
 },
 "nbformat": 4,
 "nbformat_minor": 5
}

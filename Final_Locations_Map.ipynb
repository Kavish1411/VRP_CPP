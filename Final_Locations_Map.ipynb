{
 "cells": [
  {
   "cell_type": "markdown",
   "id": "397d877e-55a4-4cb8-b9d0-2104f77b2c5b",
   "metadata": {},
   "source": [
    "## Import the required libraries"
   ]
  },
  {
   "cell_type": "code",
   "execution_count": 36,
   "id": "950e5445-cb1a-480a-86dd-919c91a2e575",
   "metadata": {},
   "outputs": [],
   "source": [
    "import openrouteservice\n",
    "import folium\n",
    "from itertools import permutations\n",
    "from IPython.display import display"
   ]
  },
  {
   "cell_type": "markdown",
   "id": "492eda2f-665b-41ad-9d21-4af7132f9431",
   "metadata": {},
   "source": [
    "## Initialization"
   ]
  },
  {
   "cell_type": "code",
   "execution_count": 39,
   "id": "1609ba48-f07b-4144-b76f-ce77562dc383",
   "metadata": {},
   "outputs": [],
   "source": [
    "client = openrouteservice.Client(key = \"5b3ce3597851110001cf6248940c956ef1b941d7aa32623ece4bfe7c\")"
   ]
  },
  {
   "cell_type": "markdown",
   "id": "2989c9c6-e949-412f-91ab-43d6e9bca911",
   "metadata": {},
   "source": [
    "## Route Fetching Function"
   ]
  },
  {
   "cell_type": "code",
   "execution_count": 42,
   "id": "a08eb544-7c62-4a68-bed2-068683709ba1",
   "metadata": {},
   "outputs": [],
   "source": [
    "def get_route_between_points(start, end):\n",
    "    route = client.directions(\n",
    "        coordinates = [(start[1], start[0]), (end[1], end[0])],\n",
    "        profile = \"driving-car\",\n",
    "        format = \"geojson\"\n",
    "    )\n",
    "    return route"
   ]
  },
  {
   "cell_type": "markdown",
   "id": "88b06d11-dff3-4c93-a13a-796a3210c733",
   "metadata": {},
   "source": [
    "## Brute Force Route Calculation"
   ]
  },
  {
   "cell_type": "code",
   "execution_count": 34,
   "id": "99f17bcc-3d82-407e-811f-26fe09faf0a5",
   "metadata": {},
   "outputs": [],
   "source": [
    "def calculate_route_brute_force(locations, distance_matrix):\n",
    "    from itertools import permutations\n",
    "    num_locations = len(locations)\n",
    "    shortest_distance = float(\"inf\")\n",
    "    best_route = None\n",
    "\n",
    "    for perm in permutations(range(1, num_locations)):\n",
    "        total_distance = distance_matrix[0][perm[0]]\n",
    "        for i in range(1, len(perm)):\n",
    "            total_distance += distance_matrix[perm[i-1]][perm[i]]\n",
    "        total_distance += distance_matrix[perm[-1]][0]\n",
    "\n",
    "    if total_distance < shortest_distance:\n",
    "        shortest_distance = total_distance\n",
    "        best_route = perm\n",
    "\n",
    "    return best_route, shortest_distance"
   ]
  },
  {
   "cell_type": "markdown",
   "id": "37297e09-7ab1-4106-944c-cd979a9aa0a2",
   "metadata": {},
   "source": [
    "## Fetching Distance Matrix"
   ]
  },
  {
   "cell_type": "code",
   "execution_count": 44,
   "id": "3a8ade56-6a9a-4757-be65-cc208cd0045e",
   "metadata": {},
   "outputs": [],
   "source": [
    "def get_distance_matrix(locations):\n",
    "    coords = [[loc[1], loc[0]] for loc in locations]\n",
    "    matrix = client.distance_matrix(coords, metrics = [\"distance\"])\n",
    "    return matrix[\"distances\"]"
   ]
  },
  {
   "cell_type": "markdown",
   "id": "d33728c4-b9bd-428c-8fe9-40d0e0bfb4b7",
   "metadata": {},
   "source": [
    "## Plotting Route on Map"
   ]
  },
  {
   "cell_type": "code",
   "execution_count": 58,
   "id": "89650355-e99b-43d9-b964-c808a3b9109f",
   "metadata": {},
   "outputs": [],
   "source": [
    "def plot_route_on_map(locations, best_route):\n",
    "    m = folium.Map(location = locations[0], zoom_start = 13)\n",
    "\n",
    "    folium.Marker(locations[0], popup = \"Start/End\", icon = folium.Icon(color = \"green\")).add_to(m)\n",
    "    for i, loc in enumerate(best_route, start = 1):\n",
    "        folium.Marker(locations[loc], popup = f\"Location {i}\").add_to(m)\n",
    "\n",
    "    route_coords = [locations[0]] + [locations[i] for i in best_route] + [locations[0]]\n",
    "\n",
    "    for i in range(len(route_coords) - 1):\n",
    "        route = get_route_between_points(route_coords[i], route_coords[i + 1])\n",
    "        geometry = route[\"features\"][0][\"geometry\"][\"coordinates\"]\n",
    "        folium.PolyLine([(coord[1], coord[0]) for coord in geometry], color = \"blue\", weight = 2.5, opacity = 1).add_to(m)\n",
    "\n",
    "    display(m)"
   ]
  },
  {
   "cell_type": "markdown",
   "id": "c0ed6761-1acb-4ab3-bcf6-55370d3e7846",
   "metadata": {},
   "source": [
    "## Main Function"
   ]
  },
  {
   "cell_type": "code",
   "execution_count": 69,
   "id": "6138761e-3369-4700-ae8e-5e77e367b419",
   "metadata": {},
   "outputs": [
    {
     "name": "stdin",
     "output_type": "stream",
     "text": [
      "Enter your name here:  Kavish Shah\n",
      "Enter the number of locations to visit (including start/end point) here:  2\n",
      "Enter the latitude for location 1:  34.058126497020844\n",
      "Enter the longitude for location 1:   -117.82142947952937\n",
      "Enter the latitude for location 2:  34.0603068980357\n",
      "Enter the longitude for location 2:  -117.82115454884296\n"
     ]
    },
    {
     "name": "stdout",
     "output_type": "stream",
     "text": [
      "Fetching distance matrix from OpenRouteService...\n",
      "\n",
      "Hello Kavish Shah, the optimal route for visiting your locations is:\n",
      "(34.058126497020844, -117.82142947952937) ->(34.0603068980357, -117.82115454884296) ->(34.058126497020844, -117.82142947952937)\n",
      "Total distance: 2.73 km\n"
     ]
    },
    {
     "data": {
      "text/html": [
       "<div style=\"width:100%;\"><div style=\"position:relative;width:100%;height:0;padding-bottom:60%;\"><span style=\"color:#565656\">Make this Notebook Trusted to load map: File -> Trust Notebook</span><iframe srcdoc=\"&lt;!DOCTYPE html&gt;\n",
       "&lt;html&gt;\n",
       "&lt;head&gt;\n",
       "    \n",
       "    &lt;meta http-equiv=&quot;content-type&quot; content=&quot;text/html; charset=UTF-8&quot; /&gt;\n",
       "    \n",
       "        &lt;script&gt;\n",
       "            L_NO_TOUCH = false;\n",
       "            L_DISABLE_3D = false;\n",
       "        &lt;/script&gt;\n",
       "    \n",
       "    &lt;style&gt;html, body {width: 100%;height: 100%;margin: 0;padding: 0;}&lt;/style&gt;\n",
       "    &lt;style&gt;#map {position:absolute;top:0;bottom:0;right:0;left:0;}&lt;/style&gt;\n",
       "    &lt;script src=&quot;https://cdn.jsdelivr.net/npm/leaflet@1.9.3/dist/leaflet.js&quot;&gt;&lt;/script&gt;\n",
       "    &lt;script src=&quot;https://code.jquery.com/jquery-3.7.1.min.js&quot;&gt;&lt;/script&gt;\n",
       "    &lt;script src=&quot;https://cdn.jsdelivr.net/npm/bootstrap@5.2.2/dist/js/bootstrap.bundle.min.js&quot;&gt;&lt;/script&gt;\n",
       "    &lt;script src=&quot;https://cdnjs.cloudflare.com/ajax/libs/Leaflet.awesome-markers/2.0.2/leaflet.awesome-markers.js&quot;&gt;&lt;/script&gt;\n",
       "    &lt;link rel=&quot;stylesheet&quot; href=&quot;https://cdn.jsdelivr.net/npm/leaflet@1.9.3/dist/leaflet.css&quot;/&gt;\n",
       "    &lt;link rel=&quot;stylesheet&quot; href=&quot;https://cdn.jsdelivr.net/npm/bootstrap@5.2.2/dist/css/bootstrap.min.css&quot;/&gt;\n",
       "    &lt;link rel=&quot;stylesheet&quot; href=&quot;https://netdna.bootstrapcdn.com/bootstrap/3.0.0/css/bootstrap-glyphicons.css&quot;/&gt;\n",
       "    &lt;link rel=&quot;stylesheet&quot; href=&quot;https://cdn.jsdelivr.net/npm/@fortawesome/fontawesome-free@6.2.0/css/all.min.css&quot;/&gt;\n",
       "    &lt;link rel=&quot;stylesheet&quot; href=&quot;https://cdnjs.cloudflare.com/ajax/libs/Leaflet.awesome-markers/2.0.2/leaflet.awesome-markers.css&quot;/&gt;\n",
       "    &lt;link rel=&quot;stylesheet&quot; href=&quot;https://cdn.jsdelivr.net/gh/python-visualization/folium/folium/templates/leaflet.awesome.rotate.min.css&quot;/&gt;\n",
       "    \n",
       "            &lt;meta name=&quot;viewport&quot; content=&quot;width=device-width,\n",
       "                initial-scale=1.0, maximum-scale=1.0, user-scalable=no&quot; /&gt;\n",
       "            &lt;style&gt;\n",
       "                #map_d8d083003b3aed2d65668111ca638ce1 {\n",
       "                    position: relative;\n",
       "                    width: 100.0%;\n",
       "                    height: 100.0%;\n",
       "                    left: 0.0%;\n",
       "                    top: 0.0%;\n",
       "                }\n",
       "                .leaflet-container { font-size: 1rem; }\n",
       "            &lt;/style&gt;\n",
       "        \n",
       "&lt;/head&gt;\n",
       "&lt;body&gt;\n",
       "    \n",
       "    \n",
       "            &lt;div class=&quot;folium-map&quot; id=&quot;map_d8d083003b3aed2d65668111ca638ce1&quot; &gt;&lt;/div&gt;\n",
       "        \n",
       "&lt;/body&gt;\n",
       "&lt;script&gt;\n",
       "    \n",
       "    \n",
       "            var map_d8d083003b3aed2d65668111ca638ce1 = L.map(\n",
       "                &quot;map_d8d083003b3aed2d65668111ca638ce1&quot;,\n",
       "                {\n",
       "                    center: [34.058126497020844, -117.82142947952937],\n",
       "                    crs: L.CRS.EPSG3857,\n",
       "                    zoom: 13,\n",
       "                    zoomControl: true,\n",
       "                    preferCanvas: false,\n",
       "                }\n",
       "            );\n",
       "\n",
       "            \n",
       "\n",
       "        \n",
       "    \n",
       "            var tile_layer_11e6369ad8c4aace29222a3415cc5981 = L.tileLayer(\n",
       "                &quot;https://tile.openstreetmap.org/{z}/{x}/{y}.png&quot;,\n",
       "                {&quot;attribution&quot;: &quot;\\u0026copy; \\u003ca href=\\&quot;https://www.openstreetmap.org/copyright\\&quot;\\u003eOpenStreetMap\\u003c/a\\u003e contributors&quot;, &quot;detectRetina&quot;: false, &quot;maxNativeZoom&quot;: 19, &quot;maxZoom&quot;: 19, &quot;minZoom&quot;: 0, &quot;noWrap&quot;: false, &quot;opacity&quot;: 1, &quot;subdomains&quot;: &quot;abc&quot;, &quot;tms&quot;: false}\n",
       "            );\n",
       "        \n",
       "    \n",
       "            tile_layer_11e6369ad8c4aace29222a3415cc5981.addTo(map_d8d083003b3aed2d65668111ca638ce1);\n",
       "        \n",
       "    \n",
       "            var marker_888376bcbd6ed8c48a7934c3771dd675 = L.marker(\n",
       "                [34.058126497020844, -117.82142947952937],\n",
       "                {}\n",
       "            ).addTo(map_d8d083003b3aed2d65668111ca638ce1);\n",
       "        \n",
       "    \n",
       "            var icon_cc5da7d3539e00c5fce26dc3ffb6ab6a = L.AwesomeMarkers.icon(\n",
       "                {&quot;extraClasses&quot;: &quot;fa-rotate-0&quot;, &quot;icon&quot;: &quot;info-sign&quot;, &quot;iconColor&quot;: &quot;white&quot;, &quot;markerColor&quot;: &quot;green&quot;, &quot;prefix&quot;: &quot;glyphicon&quot;}\n",
       "            );\n",
       "            marker_888376bcbd6ed8c48a7934c3771dd675.setIcon(icon_cc5da7d3539e00c5fce26dc3ffb6ab6a);\n",
       "        \n",
       "    \n",
       "        var popup_3fe652aac01ea46ad983a44053e7b1ff = L.popup({&quot;maxWidth&quot;: &quot;100%&quot;});\n",
       "\n",
       "        \n",
       "            \n",
       "                var html_639f9d513cf3eef9d7561ae19a7a044b = $(`&lt;div id=&quot;html_639f9d513cf3eef9d7561ae19a7a044b&quot; style=&quot;width: 100.0%; height: 100.0%;&quot;&gt;Start/End&lt;/div&gt;`)[0];\n",
       "                popup_3fe652aac01ea46ad983a44053e7b1ff.setContent(html_639f9d513cf3eef9d7561ae19a7a044b);\n",
       "            \n",
       "        \n",
       "\n",
       "        marker_888376bcbd6ed8c48a7934c3771dd675.bindPopup(popup_3fe652aac01ea46ad983a44053e7b1ff)\n",
       "        ;\n",
       "\n",
       "        \n",
       "    \n",
       "    \n",
       "            var marker_629a12ed8f69ac8ac869bcad27e0f450 = L.marker(\n",
       "                [34.0603068980357, -117.82115454884296],\n",
       "                {}\n",
       "            ).addTo(map_d8d083003b3aed2d65668111ca638ce1);\n",
       "        \n",
       "    \n",
       "        var popup_d0b3f2ee904797ef3188a4d6690008b3 = L.popup({&quot;maxWidth&quot;: &quot;100%&quot;});\n",
       "\n",
       "        \n",
       "            \n",
       "                var html_b3e495bb695d3b15632aaf4cbd28292a = $(`&lt;div id=&quot;html_b3e495bb695d3b15632aaf4cbd28292a&quot; style=&quot;width: 100.0%; height: 100.0%;&quot;&gt;Location 1&lt;/div&gt;`)[0];\n",
       "                popup_d0b3f2ee904797ef3188a4d6690008b3.setContent(html_b3e495bb695d3b15632aaf4cbd28292a);\n",
       "            \n",
       "        \n",
       "\n",
       "        marker_629a12ed8f69ac8ac869bcad27e0f450.bindPopup(popup_d0b3f2ee904797ef3188a4d6690008b3)\n",
       "        ;\n",
       "\n",
       "        \n",
       "    \n",
       "    \n",
       "            var poly_line_92d80631cc1bd85386989f6880cfab78 = L.polyline(\n",
       "                [[34.057624, -117.822443], [34.057574, -117.822858], [34.057548, -117.822905], [34.057446, -117.822929], [34.057346, -117.822981], [34.057334, -117.823098], [34.05728, -117.823633], [34.057356, -117.824102], [34.057358, -117.824192], [34.057323, -117.824481], [34.057326, -117.824659], [34.057276, -117.825006], [34.057113, -117.825503], [34.057078, -117.825797], [34.05691, -117.826525], [34.056835, -117.826698], [34.056781, -117.82678], [34.056694, -117.82686], [34.056541, -117.826953], [34.056391, -117.827012], [34.05631, -117.827069], [34.056216, -117.827215], [34.056143, -117.827438], [34.057186, -117.827869], [34.057311, -117.827891], [34.057434, -117.827881], [34.057494, -117.827864], [34.057615, -117.827791], [34.057753, -117.827632], [34.058363, -117.826249], [34.05967, -117.823258], [34.0599, -117.82273], [34.060084, -117.822307], [34.060159, -117.822179], [34.060263, -117.822036], [34.060478, -117.82181], [34.06036, -117.821663], [34.060313, -117.821641]],\n",
       "                {&quot;bubblingMouseEvents&quot;: true, &quot;color&quot;: &quot;blue&quot;, &quot;dashArray&quot;: null, &quot;dashOffset&quot;: null, &quot;fill&quot;: false, &quot;fillColor&quot;: &quot;blue&quot;, &quot;fillOpacity&quot;: 0.2, &quot;fillRule&quot;: &quot;evenodd&quot;, &quot;lineCap&quot;: &quot;round&quot;, &quot;lineJoin&quot;: &quot;round&quot;, &quot;noClip&quot;: false, &quot;opacity&quot;: 1, &quot;smoothFactor&quot;: 1.0, &quot;stroke&quot;: true, &quot;weight&quot;: 2.5}\n",
       "            ).addTo(map_d8d083003b3aed2d65668111ca638ce1);\n",
       "        \n",
       "    \n",
       "            var poly_line_50b1ee3b9ede06c6d2770ac7a17f4283 = L.polyline(\n",
       "                [[34.060313, -117.821641], [34.06036, -117.821663], [34.060478, -117.82181], [34.060263, -117.822036], [34.060159, -117.822179], [34.060084, -117.822307], [34.0599, -117.82273], [34.05967, -117.823258], [34.058363, -117.826249], [34.057753, -117.827632], [34.057615, -117.827791], [34.057494, -117.827864], [34.057434, -117.827881], [34.057311, -117.827891], [34.057186, -117.827869], [34.056143, -117.827438], [34.056216, -117.827215], [34.05631, -117.827069], [34.056391, -117.827012], [34.056541, -117.826953], [34.056694, -117.82686], [34.056781, -117.82678], [34.056835, -117.826698], [34.05691, -117.826525], [34.057078, -117.825797], [34.057113, -117.825503], [34.057276, -117.825006], [34.057326, -117.824659], [34.057323, -117.824481], [34.057358, -117.824192], [34.057356, -117.824102], [34.05728, -117.823633], [34.057334, -117.823098], [34.057346, -117.822981], [34.057446, -117.822929], [34.057548, -117.822905], [34.057574, -117.822858], [34.057624, -117.822443]],\n",
       "                {&quot;bubblingMouseEvents&quot;: true, &quot;color&quot;: &quot;blue&quot;, &quot;dashArray&quot;: null, &quot;dashOffset&quot;: null, &quot;fill&quot;: false, &quot;fillColor&quot;: &quot;blue&quot;, &quot;fillOpacity&quot;: 0.2, &quot;fillRule&quot;: &quot;evenodd&quot;, &quot;lineCap&quot;: &quot;round&quot;, &quot;lineJoin&quot;: &quot;round&quot;, &quot;noClip&quot;: false, &quot;opacity&quot;: 1, &quot;smoothFactor&quot;: 1.0, &quot;stroke&quot;: true, &quot;weight&quot;: 2.5}\n",
       "            ).addTo(map_d8d083003b3aed2d65668111ca638ce1);\n",
       "        \n",
       "&lt;/script&gt;\n",
       "&lt;/html&gt;\" style=\"position:absolute;width:100%;height:100%;left:0;top:0;border:none !important;\" allowfullscreen webkitallowfullscreen mozallowfullscreen></iframe></div></div>"
      ],
      "text/plain": [
       "<folium.folium.Map at 0x150e3c7d0>"
      ]
     },
     "metadata": {},
     "output_type": "display_data"
    }
   ],
   "source": [
    "def main():\n",
    "    user_name = input(\"Enter your name here: \")\n",
    "    n = int(input(\"Enter the number of locations to visit (including start/end point) here: \"))\n",
    "    locations = []\n",
    "    for i in range(n):\n",
    "        lat = float(input(f\"Enter the latitude for location {i+1}: \"))\n",
    "        lon = float(input(f\"Enter the longitude for location {i+1}: \"))\n",
    "        locations.append((lat, lon))\n",
    "\n",
    "    print(\"Fetching distance matrix from OpenRouteService...\")\n",
    "    distance_matrix = get_distance_matrix(locations)\n",
    "\n",
    "    best_route, shortest_distance = calculate_route_brute_force(locations, distance_matrix)\n",
    "\n",
    "    print(f\"\\nHello {user_name}, the optimal route for visiting your locations is:\")\n",
    "    print(locations[0], \"->\", end=\"\")\n",
    "    for i in best_route:\n",
    "        print(locations[i], \"->\", end=\"\")\n",
    "    print(locations[0])\n",
    "\n",
    "    print(f\"Total distance: {shortest_distance / 1000:.2f} km\")\n",
    "\n",
    "    plot_route_on_map(locations, best_route)\n",
    "\n",
    "if __name__ == \"__main__\":\n",
    "    main()"
   ]
  },
  {
   "cell_type": "code",
   "execution_count": null,
   "id": "ceca4215-a84a-44e9-a29a-e20d318cb559",
   "metadata": {},
   "outputs": [],
   "source": []
  }
 ],
 "metadata": {
  "kernelspec": {
   "display_name": "Python 3 (ipykernel)",
   "language": "python",
   "name": "python3"
  },
  "language_info": {
   "codemirror_mode": {
    "name": "ipython",
    "version": 3
   },
   "file_extension": ".py",
   "mimetype": "text/x-python",
   "name": "python",
   "nbconvert_exporter": "python",
   "pygments_lexer": "ipython3",
   "version": "3.11.5"
  }
 },
 "nbformat": 4,
 "nbformat_minor": 5
}
